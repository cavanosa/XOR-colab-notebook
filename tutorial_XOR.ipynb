{
  "nbformat": 4,
  "nbformat_minor": 0,
  "metadata": {
    "colab": {
      "name": "tutorial_XOR.ipynb",
      "provenance": [],
      "collapsed_sections": [],
      "authorship_tag": "ABX9TyO09/eVRlj3hu1DpJX58U6M"
    },
    "kernelspec": {
      "name": "python3",
      "display_name": "Python 3"
    },
    "language_info": {
      "name": "python"
    }
  },
  "cells": [
    {
      "cell_type": "code",
      "metadata": {
        "id": "ir0h7EDIr3ia"
      },
      "source": [
        "import numpy as np\n",
        "import matplotlib.pyplot as plt"
      ],
      "execution_count": null,
      "outputs": []
    },
    {
      "cell_type": "code",
      "metadata": {
        "id": "sojHiFhmr-aU"
      },
      "source": [
        "inputs = np.array([[0, 0, 1], [0, 1, 1], [1, 0, 1], [1, 1, 1]])\n",
        "y = np.array([[1], [0], [0], [1]])"
      ],
      "execution_count": null,
      "outputs": []
    },
    {
      "cell_type": "code",
      "metadata": {
        "id": "HzjkeoEusECE"
      },
      "source": [
        "class NeuralNet():\n",
        "  def __init__(self, input_size, hidden_size, output_size):\n",
        "    self.input_size = input_size\n",
        "    self.hidden_size = hidden_size\n",
        "    self.output_size = output_size\n",
        "\n",
        "    self.W1 = np.random.randn(self.input_size, self.hidden_size)\n",
        "    self.W2 = np.random.randn(self.hidden_size, self.output_size)\n",
        "\n",
        "  def forward(self, X):\n",
        "    self.z1 = np.dot(X, self.W1)\n",
        "    self.a1 = self.sigmoid(self.z1)\n",
        "    self.z2 = np.dot(self.a1, self.W2)\n",
        "    self.output = self.sigmoid(self.z2)\n",
        "    return self.output\n",
        "\n",
        "  def backprop(self, X, y, lr):\n",
        "    output = self.forward(X)\n",
        "    error_out = output - y\n",
        "    delta_out = error_out * self.sigmoid_der(output)\n",
        "    derivative_W2 = np.dot(self.a1.T, delta_out)\n",
        "    error_hidden = np.dot(delta_out, self.W2.T)\n",
        "    delta_hidden = error_hidden * self.sigmoid_der(self.a1)\n",
        "    derivative_W1 = np.dot(inputs.T, delta_hidden)\n",
        "    # gradient descent\n",
        "    self.W2 -= derivative_W2 * lr\n",
        "    self.W1 -= derivative_W1 * lr\n",
        "    return self.mse(output, y)\n",
        "    \n",
        "  def sigmoid(self, x):\n",
        "    return 1 / (1 + np.exp(-x))\n",
        "\n",
        "  def sigmoid_der(self, x):\n",
        "    return x * (1 - x)\n",
        "\n",
        "  def mse(self, output, target):\n",
        "    return np.mean((output - target) ** 2) / 2\n",
        "  "
      ],
      "execution_count": null,
      "outputs": []
    },
    {
      "cell_type": "markdown",
      "metadata": {
        "id": "UL14Ob9wGnLE"
      },
      "source": [
        "1/2 (output - y) ^ 2 \\\\\n",
        "1/2 (sigm(z2) - y) ^ 2 \\\\\n",
        "1/2 (sigm(a1*W2) - y) ^ 2 \\\\\n",
        "1/2 (sigm(sigm(z1)*W2) - y) ^ 2 \\\\\n",
        "1/2 (sigm(sigm(inputs*W1)*W2) - y) ^ 2 \\\\\n",
        "DERIVADA W2: \\\\\n",
        "(output - y) * sigm'(z2)* a1 \\\\\n",
        "DERIVADA W1: \\\\\n",
        "(output - y) * sigm'(z2) * W2 * sigm'(z1) * inputs \\\\"
      ]
    },
    {
      "cell_type": "code",
      "metadata": {
        "colab": {
          "base_uri": "https://localhost:8080/",
          "height": 441
        },
        "id": "a9mUJTavLVDd",
        "outputId": "5bd43285-81e9-4e1e-a895-def9f4a7e740"
      },
      "source": [
        "nn = NeuralNet(3, 3, 1)\n",
        "print(\"Antes:\")\n",
        "print(nn.forward(inputs))\n",
        "errors = []\n",
        "error = 1\n",
        "while error > 0.001:\n",
        "  error = nn.backprop(inputs, y, 1)\n",
        "  errors.append(error)\n",
        "print(\"Después:\")\n",
        "print(nn.forward(inputs))\n",
        "\n",
        "x_axis = range(0, len(errors))\n",
        "plt.plot(x_axis, errors)\n",
        "plt.show()"
      ],
      "execution_count": null,
      "outputs": [
        {
          "output_type": "stream",
          "text": [
            "Antes:\n",
            "[[0.30907293]\n",
            " [0.32214283]\n",
            " [0.3379518 ]\n",
            " [0.35009691]]\n",
            "Después:\n",
            "[[0.96088106]\n",
            " [0.03970056]\n",
            " [0.0531158 ]\n",
            " [0.95467056]]\n"
          ],
          "name": "stdout"
        },
        {
          "output_type": "display_data",
          "data": {
            "image/png": "[encoded data removed]",
            "text/plain": [
              "<Figure size 432x288 with 1 Axes>"
            ]
          },
          "metadata": {
            "tags": [],
            "needs_background": "light"
          }
        }
      ]
    }
  ]
}